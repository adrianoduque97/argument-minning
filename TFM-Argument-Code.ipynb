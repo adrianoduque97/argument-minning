{
  "cells": [
    {
      "cell_type": "markdown",
      "metadata": {
        "id": "view-in-github",
        "colab_type": "text"
      },
      "source": [
        "<a href=\"https://colab.research.google.com/github/adrianoduque97/argument-minning/blob/main/TFM-Argument-Code.ipynb\" target=\"_parent\"><img src=\"https://colab.research.google.com/assets/colab-badge.svg\" alt=\"Open In Colab\"/></a>"
      ]
    },
    {
      "cell_type": "markdown",
      "source": [
        "# Argument Minning by Adrian Duque\n",
        "\n",
        "### Tesis for argumen classification using several aproaches such as Machine Learning, Deep Learning and NLP"
      ],
      "metadata": {
        "id": "SqiJr6fPBtp9"
      },
      "id": "SqiJr6fPBtp9"
    },
    {
      "cell_type": "code",
      "source": [
        ""
      ],
      "metadata": {
        "id": "IiLrDB5sB6Qd"
      },
      "id": "IiLrDB5sB6Qd",
      "execution_count": null,
      "outputs": []
    }
  ],
  "metadata": {
    "colab": {
      "name": "TFM-Argument-Code.ipynb",
      "provenance": [],
      "include_colab_link": true
    }
  },
  "nbformat": 4,
  "nbformat_minor": 5
}